{
 "cells": [
  {
   "cell_type": "code",
   "execution_count": null,
   "id": "e27d4372-f6ac-4a9f-9fc9-099e8361bfbb",
   "metadata": {},
   "outputs": [],
   "source": [
    "def segsum(x):\n",
    "    \"\"\"Naive segment sum calculation. exp(segsum(A)) produces a 1-SS matrix,\n",
    "    which is equivalent to a scalar SSM.\"\"\"\n",
    "    T = x.size(-1)\n",
    "    x_cumsum = torch.cumsum(x, dim=-1)\n",
    "    x_segsum = x_cumsum[..., :, None] - x_cumsum[..., None, :]\n",
    "    mask = torch.tril(torch.ones(T, T, device=x.device, dtype=bool), diagonal=0)\n",
    "    x_segsum = x_segsum.masked_fill(~mask, -torch.inf)\n",
    "    return x_segsum\n",
    "    \n",
    "def ssd(X, A, B, C, block_len=64, initial_states=None):\n",
    "    \"\"\"\n",
    "    Arguments:\n",
    "    X: (batch, length, n_heads, d_head)\n",
    "    A: (batch, length, n_heads)\n",
    "    B: (batch, length, n_heads, d_state)\n",
    "    C: (batch, length, n_heads, d_state)\n",
    "    Return:\n",
    "    Y: (batch, length, n_heads, d_head)\n",
    "    \"\"\"\n",
    "    assert X.dtype == A.dtype == B.dtype == C.dtype\n",
    "    assert X.shape[1] % block_len == 0\n",
    "    # Rearrange into blocks/chunks\n",
    "    X, A, B, C = [rearrange(x, \"b (c l) ... -> b c l ...\", l=block_len) for x in (X, A, B, C)]\n",
    "    A = rearrange(A, \"b c l h -> b h c l\")\n",
    "    A_cumsum = torch.cumsum(A, dim=-1)\n",
    "    # 1. Compute the output for each intra-chunk (diagonal blocks)\n",
    "    L = torch.exp(segsum(A))\n",
    "    Y_diag = torch.einsum(\"bclhn,bcshn,bhcls,bcshp->bclhp\", C, B, L, X)\n",
    "    # 2. Compute the state for each intra-chunk\n",
    "    # (right term of low-rank factorization of off-diagonal blocks; B terms)\n",
    "    decay_states = torch.exp((A_cumsum[:, :, :, -1:] - A_cumsum))\n",
    "    states = torch.einsum(\"bclhn,bhcl,bclhp->bchpn\", B, decay_states, X)\n",
    "    # 3. Compute the inter-chunk SSM recurrence; produces correct SSM states at chunk boundaries\n",
    "    # (middle term of factorization of off-diag blocks; A terms)\n",
    "    if initial_states is None:\n",
    "        initial_states = torch.zeros_like(states[:, :1])\n",
    "    states = torch.cat([initial_states, states], dim=1)\n",
    "    decay_chunk = torch.exp(segsum(F.pad(A_cumsum[:, :, :, -1], (1, 0))))\n",
    "    new_states = torch.einsum(\"bhzc,bchpn->bzhpn\", decay_chunk, states)\n",
    "    states, final_state = new_states[:, :-1], new_states[:, -1]\n",
    "    # 4. Compute state -> output conversion per chunk\n",
    "    # (left term of low-rank factorization of off-diagonal blocks; C terms)\n",
    "    state_decay_out = torch.exp(A_cumsum)\n",
    "    Y_off = torch.einsum('bclhn,bchpn,bhcl->bclhp', C, states, state_decay_out)\n",
    "    # Add output of intra-chunk and inter-chunk terms (diagonal and off-diagonal blocks)\n",
    "    Y = rearrange(Y_diag+Y_off, \"b c l h p -> b (c l) h p\")\n",
    "    return Y, final_state"
   ]
  },
  {
   "cell_type": "code",
   "execution_count": null,
   "id": "5e8c6d3b-c9c7-47aa-b469-fe239358b38d",
   "metadata": {},
   "outputs": [],
   "source": []
  },
  {
   "cell_type": "code",
   "execution_count": null,
   "id": "041a1c28-7b78-44aa-a97d-89715b83bbfb",
   "metadata": {},
   "outputs": [],
   "source": []
  },
  {
   "cell_type": "code",
   "execution_count": null,
   "id": "ded5011a-6fea-4ab8-8146-75fc5d472f40",
   "metadata": {},
   "outputs": [],
   "source": []
  },
  {
   "cell_type": "code",
   "execution_count": null,
   "id": "6a8f3cc7-70b7-4f74-b1af-e335f8ecfb19",
   "metadata": {},
   "outputs": [],
   "source": []
  },
  {
   "cell_type": "code",
   "execution_count": null,
   "id": "8ddcae95-2b5b-416a-b835-16d4490df061",
   "metadata": {},
   "outputs": [],
   "source": []
  },
  {
   "cell_type": "code",
   "execution_count": null,
   "id": "1e7dbfc7-b277-476b-88c4-a8c1c69cfd95",
   "metadata": {},
   "outputs": [],
   "source": []
  },
  {
   "cell_type": "code",
   "execution_count": null,
   "id": "b9e36e7c-427d-4693-9112-56be26f39d1d",
   "metadata": {},
   "outputs": [],
   "source": []
  },
  {
   "cell_type": "code",
   "execution_count": null,
   "id": "a9c775e6-a52d-48c3-ae9d-970289af7341",
   "metadata": {},
   "outputs": [],
   "source": []
  },
  {
   "cell_type": "code",
   "execution_count": null,
   "id": "3c04ca6d-44cb-4abf-b5f2-a8476b28845c",
   "metadata": {},
   "outputs": [],
   "source": []
  },
  {
   "cell_type": "code",
   "execution_count": null,
   "id": "525e8546-8447-4564-81a7-79638cbc0ef4",
   "metadata": {},
   "outputs": [],
   "source": []
  },
  {
   "cell_type": "code",
   "execution_count": null,
   "id": "c67fcfdb-f0ac-4af9-9060-8b3c07da724f",
   "metadata": {},
   "outputs": [],
   "source": []
  }
 ],
 "metadata": {
  "kernelspec": {
   "display_name": "Python 3 (ipykernel)",
   "language": "python",
   "name": "python3"
  },
  "language_info": {
   "codemirror_mode": {
    "name": "ipython",
    "version": 3
   },
   "file_extension": ".py",
   "mimetype": "text/x-python",
   "name": "python",
   "nbconvert_exporter": "python",
   "pygments_lexer": "ipython3",
   "version": "3.10.14"
  }
 },
 "nbformat": 4,
 "nbformat_minor": 5
}
